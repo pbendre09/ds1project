{
 "cells": [
  {
   "cell_type": "markdown",
   "id": "476589ac",
   "metadata": {},
   "source": [
    "# Data Science Notebook"
   ]
  },
  {
   "cell_type": "markdown",
   "id": "3725f00d",
   "metadata": {},
   "source": [
    "This is the data Science project contains multiple assignments"
   ]
  },
  {
   "cell_type": "markdown",
   "id": "6eb170c8",
   "metadata": {},
   "source": [
    "\n",
    "\n",
    "## Data Science Languages\n",
    "\n",
    "1. Python\n",
    "2. R\n",
    "3. SQL\n",
    "4. Julia\n",
    "5. Scala\n"
   ]
  },
  {
   "cell_type": "markdown",
   "id": "72df82df",
   "metadata": {},
   "source": [
    "## Data Science Libraries\n",
    "\n",
    "- Pandas\n",
    "- NumPy\n",
    "- Matplotlib\n",
    "- Seaborn\n",
    "- TensorFlow\n",
    "- Scikit-learn\n"
   ]
  },
  {
   "cell_type": "markdown",
   "id": "7d69ed0f",
   "metadata": {},
   "source": [
    "## Data Science Tools\n",
    "\n",
    "| Tool            | Description                                |\n",
    "|-----------------|--------------------------------------------|\n",
    "| Jupyter Notebook| Interactive computing and data analysis    |\n",
    "| VS Code         | Code editor with powerful extensions       |\n",
    "| Tableau         | Data visualization and business analytics  |\n",
    "| Spark           | Distributed data processing engine        |\n",
    "| Docker          | Containerization platform                  |\n"
   ]
  },
  {
   "cell_type": "markdown",
   "id": "ac89a7db",
   "metadata": {},
   "source": [
    "# Multiplication and Addition\n"
   ]
  },
  {
   "cell_type": "code",
   "execution_count": 1,
   "id": "6e92c7de",
   "metadata": {},
   "outputs": [
    {
     "name": "stdout",
     "output_type": "stream",
     "text": [
      "Multiplication: 50\n",
      "Addition: 15\n"
     ]
    }
   ],
   "source": [
    "x = 5\n",
    "y = 10\n",
    "result_multiply = x * y\n",
    "result_addition = x + y\n",
    "print(\"Multiplication:\", result_multiply)\n",
    "print(\"Addition:\", result_addition)"
   ]
  },
  {
   "cell_type": "markdown",
   "id": "fe81ec41",
   "metadata": {},
   "source": [
    "# Convert Minutes to Hours\n",
    "\n",
    "\n",
    "\n"
   ]
  },
  {
   "cell_type": "code",
   "execution_count": 3,
   "id": "5b15f5b9",
   "metadata": {},
   "outputs": [
    {
     "name": "stdout",
     "output_type": "stream",
     "text": [
      "Minutes: 150.0\n"
     ]
    }
   ],
   "source": [
    "hours = 2.5  \n",
    "minutes = hours * 60\n",
    "print(\"Minutes:\", minutes)\n"
   ]
  },
  {
   "cell_type": "markdown",
   "id": "acf8515b",
   "metadata": {},
   "source": [
    "## Introduction to Data Science\n",
    "\n",
    "Data Science is an interdisciplinary field that combines techniques from statistics, mathematics, and computer science to extract insights and knowledge from data. It plays a crucial role in various industries and domains.\n",
    "\n",
    "### Applications of Data Science:\n",
    "\n",
    "- Predictive Analytics\n",
    "- Machine Learning\n",
    "- Data Visualization\n",
    "- Natural Language Processing\n",
    "- Recommender Systems\n",
    "- Image and Video Analysis\n",
    "- Fraud Detection\n",
    "- Health Informatics\n",
    "- Financial Analysis\n"
   ]
  },
  {
   "cell_type": "markdown",
   "id": "93001874",
   "metadata": {},
   "source": [
    "## Author\n",
    "\n",
    "- Pramil Bendre\n"
   ]
  },
  {
   "cell_type": "code",
   "execution_count": null,
   "id": "3adad1d4",
   "metadata": {},
   "outputs": [],
   "source": []
  }
 ],
 "metadata": {
  "kernelspec": {
   "display_name": "Python 3 (ipykernel)",
   "language": "python",
   "name": "python3"
  },
  "language_info": {
   "codemirror_mode": {
    "name": "ipython",
    "version": 3
   },
   "file_extension": ".py",
   "mimetype": "text/x-python",
   "name": "python",
   "nbconvert_exporter": "python",
   "pygments_lexer": "ipython3",
   "version": "3.11.3"
  }
 },
 "nbformat": 4,
 "nbformat_minor": 5
}
